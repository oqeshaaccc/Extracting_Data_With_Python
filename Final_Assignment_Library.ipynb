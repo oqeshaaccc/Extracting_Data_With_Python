{
  "cells": [
    {
      "cell_type": "markdown",
      "metadata": {
        "id": "view-in-github",
        "colab_type": "text"
      },
      "source": [
        "<a href=\"https://colab.research.google.com/github/oqeshaaccc/extracting_stock_data_using_python_library/blob/main/Final_Assignment_Library.ipynb\" target=\"_parent\"><img src=\"https://colab.research.google.com/assets/colab-badge.svg\" alt=\"Open In Colab\"/></a>"
      ]
    },
    {
      "cell_type": "markdown",
      "metadata": {
        "id": "30e010de-8175-4df8-a732-94d30fb0db41"
      },
      "source": [
        "<center>\n",
        "    <img src=\"https://cf-courses-data.s3.us.cloud-object-storage.appdomain.cloud/IBMDeveloperSkillsNetwork-PY0220EN-SkillsNetwork/labs/project/Images/SN_logo.png\" width=\"300\" alt=\"cognitiveclass.ai logo\">\n",
        "</center>\n"
      ]
    },
    {
      "cell_type": "markdown",
      "metadata": {
        "id": "8dac7c23-52be-48b9-985c-4a49a1a9a093"
      },
      "source": [
        "<h1>Extracting Stock Data Using a Python Library</h1>\n"
      ]
    },
    {
      "cell_type": "markdown",
      "metadata": {
        "id": "786a6491-454c-42c0-aadb-51d69ab94a51"
      },
      "source": [
        "A company's stock share is a piece of the company more precisely:\n",
        "<p><b>A stock (also known as equity) is a security that represents the ownership of a fraction of a corporation. This\n",
        "entitles the owner of the stock to a proportion of the corporation's assets and profits equal to how much stock they own. Units of stock are called \"shares.\" [1]</p></b>\n",
        "\n",
        "An investor can buy a stock and sell it later. If the stock price increases, the investor profits, If it decreases,the investor with incur a loss.  Determining the stock price is complex; it depends on the number of outstanding shares, the size of the company's future profits, and much more. People trade stocks throughout the day the stock ticker is a report of the price of a certain stock, updated continuously throughout the trading session by the various stock market exchanges. \n",
        "<p>You are a data scientist working for a hedge fund; it's your job to determine any suspicious stock activity. In this lab you will extract stock data using a Python library. We will use the <coode>yfinance</code> library, it allows us to extract data for stocks returning data in a pandas dataframe. You will use the lab to extract.</p>\n"
      ]
    },
    {
      "cell_type": "markdown",
      "metadata": {
        "id": "34beb23b-9074-470b-8c7d-6001daf20922"
      },
      "source": [
        "<h2>Table of Contents</h2>\n",
        "<div class=\"alert alert-block alert-info\" style=\"margin-top: 20px\">\n",
        "    <ul>\n",
        "        <li>Using yfinance to Extract Stock Info</li>\n",
        "        <li>Using yfinance to Extract Historical Share Price Data</li>\n",
        "        <li>Using yfinance to Extract Historical Dividends Data</li>\n",
        "        <li>Exercise</li>\n",
        "    </ul>\n",
        "<p>\n",
        "    Estimated Time Needed: <strong>30 min</strong></p>\n",
        "</div>\n",
        "\n",
        "<hr>\n"
      ]
    },
    {
      "cell_type": "code",
      "metadata": {
        "colab": {
          "base_uri": "https://localhost:8080/"
        },
        "id": "d453674b-07a1-43fa-8417-893b45e0a266",
        "outputId": "05d38a7c-8dcb-4a6b-c8eb-25afb80747e9"
      },
      "outputs": [
        {
          "output_type": "stream",
          "name": "stdout",
          "text": [
            "Looking in indexes: https://pypi.org/simple, https://us-python.pkg.dev/colab-wheels/public/simple/\n",
            "Collecting yfinance==0.2.4\n",
            "  Downloading yfinance-0.2.4-py2.py3-none-any.whl (51 kB)\n",
            "\u001b[2K     \u001b[90m━━━━━━━━━━━━━━━━━━━━━━━━━━━━━━━━━━━━━━━━\u001b[0m \u001b[32m51.4/51.4 KB\u001b[0m \u001b[31m2.0 MB/s\u001b[0m eta \u001b[36m0:00:00\u001b[0m\n",
            "\u001b[?25hCollecting cryptography>=3.3.2\n",
            "  Downloading cryptography-39.0.1-cp36-abi3-manylinux_2_28_x86_64.whl (4.2 MB)\n",
            "\u001b[2K     \u001b[90m━━━━━━━━━━━━━━━━━━━━━━━━━━━━━━━━━━━━━━━━\u001b[0m \u001b[32m4.2/4.2 MB\u001b[0m \u001b[31m36.5 MB/s\u001b[0m eta \u001b[36m0:00:00\u001b[0m\n",
            "\u001b[?25hRequirement already satisfied: pandas>=1.3.0 in /usr/local/lib/python3.8/dist-packages (from yfinance==0.2.4) (1.3.5)\n",
            "Collecting requests>=2.26\n",
            "  Downloading requests-2.28.2-py3-none-any.whl (62 kB)\n",
            "\u001b[2K     \u001b[90m━━━━━━━━━━━━━━━━━━━━━━━━━━━━━━━━━━━━━━━━\u001b[0m \u001b[32m62.8/62.8 KB\u001b[0m \u001b[31m3.9 MB/s\u001b[0m eta \u001b[36m0:00:00\u001b[0m\n",
            "\u001b[?25hRequirement already satisfied: appdirs>=1.4.4 in /usr/local/lib/python3.8/dist-packages (from yfinance==0.2.4) (1.4.4)\n",
            "Requirement already satisfied: lxml>=4.9.1 in /usr/local/lib/python3.8/dist-packages (from yfinance==0.2.4) (4.9.2)\n",
            "Collecting beautifulsoup4>=4.11.1\n",
            "  Downloading beautifulsoup4-4.11.2-py3-none-any.whl (129 kB)\n",
            "\u001b[2K     \u001b[90m━━━━━━━━━━━━━━━━━━━━━━━━━━━━━━━━━━━━━━━\u001b[0m \u001b[32m129.4/129.4 KB\u001b[0m \u001b[31m8.0 MB/s\u001b[0m eta \u001b[36m0:00:00\u001b[0m\n",
            "\u001b[?25hRequirement already satisfied: multitasking>=0.0.7 in /usr/local/lib/python3.8/dist-packages (from yfinance==0.2.4) (0.0.11)\n",
            "Collecting html5lib>=1.1\n",
            "  Downloading html5lib-1.1-py2.py3-none-any.whl (112 kB)\n",
            "\u001b[2K     \u001b[90m━━━━━━━━━━━━━━━━━━━━━━━━━━━━━━━━━━━━━━━\u001b[0m \u001b[32m112.2/112.2 KB\u001b[0m \u001b[31m7.1 MB/s\u001b[0m eta \u001b[36m0:00:00\u001b[0m\n",
            "\u001b[?25hRequirement already satisfied: pytz>=2022.5 in /usr/local/lib/python3.8/dist-packages (from yfinance==0.2.4) (2022.7.1)\n",
            "Collecting frozendict>=2.3.4\n",
            "  Downloading frozendict-2.3.5-cp38-cp38-manylinux_2_17_x86_64.manylinux2014_x86_64.whl (111 kB)\n",
            "\u001b[2K     \u001b[90m━━━━━━━━━━━━━━━━━━━━━━━━━━━━━━━━━━━━━━━\u001b[0m \u001b[32m111.2/111.2 KB\u001b[0m \u001b[31m8.4 MB/s\u001b[0m eta \u001b[36m0:00:00\u001b[0m\n",
            "\u001b[?25hRequirement already satisfied: numpy>=1.16.5 in /usr/local/lib/python3.8/dist-packages (from yfinance==0.2.4) (1.22.4)\n",
            "Collecting soupsieve>1.2\n",
            "  Downloading soupsieve-2.4-py3-none-any.whl (37 kB)\n",
            "Requirement already satisfied: cffi>=1.12 in /usr/local/lib/python3.8/dist-packages (from cryptography>=3.3.2->yfinance==0.2.4) (1.15.1)\n",
            "Requirement already satisfied: webencodings in /usr/local/lib/python3.8/dist-packages (from html5lib>=1.1->yfinance==0.2.4) (0.5.1)\n",
            "Requirement already satisfied: six>=1.9 in /usr/local/lib/python3.8/dist-packages (from html5lib>=1.1->yfinance==0.2.4) (1.15.0)\n",
            "Requirement already satisfied: python-dateutil>=2.7.3 in /usr/local/lib/python3.8/dist-packages (from pandas>=1.3.0->yfinance==0.2.4) (2.8.2)\n",
            "Requirement already satisfied: charset-normalizer<4,>=2 in /usr/local/lib/python3.8/dist-packages (from requests>=2.26->yfinance==0.2.4) (3.0.1)\n",
            "Requirement already satisfied: urllib3<1.27,>=1.21.1 in /usr/local/lib/python3.8/dist-packages (from requests>=2.26->yfinance==0.2.4) (1.26.14)\n",
            "Requirement already satisfied: certifi>=2017.4.17 in /usr/local/lib/python3.8/dist-packages (from requests>=2.26->yfinance==0.2.4) (2022.12.7)\n",
            "Requirement already satisfied: idna<4,>=2.5 in /usr/local/lib/python3.8/dist-packages (from requests>=2.26->yfinance==0.2.4) (2.10)\n",
            "Requirement already satisfied: pycparser in /usr/local/lib/python3.8/dist-packages (from cffi>=1.12->cryptography>=3.3.2->yfinance==0.2.4) (2.21)\n",
            "Installing collected packages: soupsieve, requests, html5lib, frozendict, cryptography, beautifulsoup4, yfinance\n",
            "  Attempting uninstall: requests\n",
            "    Found existing installation: requests 2.25.1\n",
            "    Uninstalling requests-2.25.1:\n",
            "      Successfully uninstalled requests-2.25.1\n",
            "  Attempting uninstall: html5lib\n",
            "    Found existing installation: html5lib 1.0.1\n",
            "    Uninstalling html5lib-1.0.1:\n",
            "      Successfully uninstalled html5lib-1.0.1\n",
            "  Attempting uninstall: beautifulsoup4\n",
            "    Found existing installation: beautifulsoup4 4.6.3\n",
            "    Uninstalling beautifulsoup4-4.6.3:\n",
            "      Successfully uninstalled beautifulsoup4-4.6.3\n",
            "Successfully installed beautifulsoup4-4.11.2 cryptography-39.0.1 frozendict-2.3.5 html5lib-1.1 requests-2.28.2 soupsieve-2.4 yfinance-0.2.4\n"
          ]
        }
      ],
      "source": [
        "!pip install yfinance==0.2.4\n",
        "#!pip install pandas==1.3.3"
      ],
      "execution_count": 1
    },
    {
      "cell_type": "code",
      "metadata": {
        "id": "b50c964a-56a6-4e23-88f6-388139cb5807"
      },
      "outputs": [],
      "source": [
        "import yfinance as yf\n",
        "import pandas as pd"
      ],
      "execution_count": 2
    },
    {
      "cell_type": "markdown",
      "metadata": {
        "id": "2b782e41-b6f5-4da7-849b-ba11d9b9f61d"
      },
      "source": [
        "## Using the yfinance Library to Extract Stock Data\n"
      ]
    },
    {
      "cell_type": "markdown",
      "metadata": {
        "id": "49d1af1a-3fae-4a5c-8380-2ead49f78c44"
      },
      "source": [
        "Using the `Ticker` module we can create an object that will allow us to access functions to extract data. To do this we need to provide the ticker symbol for the stock, here the company is Apple and the ticker symbol is `AAPL`.\n"
      ]
    },
    {
      "cell_type": "code",
      "metadata": {
        "id": "0105c90f-3805-4dca-9dd5-69e1685732c7"
      },
      "outputs": [],
      "source": [
        "apple = yf.Ticker(\"AAPL\")"
      ],
      "execution_count": 3
    },
    {
      "cell_type": "markdown",
      "metadata": {
        "id": "3ea3ad10-5947-473a-8964-1526d27ded80"
      },
      "source": [
        "Now we can access functions and variables to extract the type of data we need. You can view them and what they represent here https://aroussi.com/post/python-yahoo-finance.\n"
      ]
    },
    {
      "cell_type": "code",
      "metadata": {
        "colab": {
          "base_uri": "https://localhost:8080/"
        },
        "id": "99ffbcf7-7dee-45f0-85d0-7c14336f720d",
        "outputId": "f8dcad10-eaed-4341-d4c3-d54daec0cb66"
      },
      "outputs": [
        {
          "output_type": "stream",
          "name": "stdout",
          "text": [
            "--2023-03-02 03:32:09--  https://cf-courses-data.s3.us.cloud-object-storage.appdomain.cloud/IBMDeveloperSkillsNetwork-PY0220EN-SkillsNetwork/data/apple.json\n",
            "Resolving cf-courses-data.s3.us.cloud-object-storage.appdomain.cloud (cf-courses-data.s3.us.cloud-object-storage.appdomain.cloud)... 169.45.118.108\n",
            "Connecting to cf-courses-data.s3.us.cloud-object-storage.appdomain.cloud (cf-courses-data.s3.us.cloud-object-storage.appdomain.cloud)|169.45.118.108|:443... connected.\n",
            "HTTP request sent, awaiting response... 200 OK\n",
            "Length: 5699 (5.6K) [application/json]\n",
            "Saving to: ‘apple.json’\n",
            "\n",
            "apple.json          100%[===================>]   5.57K  --.-KB/s    in 0s      \n",
            "\n",
            "2023-03-02 03:32:09 (727 MB/s) - ‘apple.json’ saved [5699/5699]\n",
            "\n"
          ]
        }
      ],
      "source": [
        "!wget https://cf-courses-data.s3.us.cloud-object-storage.appdomain.cloud/IBMDeveloperSkillsNetwork-PY0220EN-SkillsNetwork/data/apple.json"
      ],
      "execution_count": 4
    },
    {
      "cell_type": "markdown",
      "metadata": {
        "id": "384f9505-87d0-4186-85a0-21a6cb5759b0"
      },
      "source": [
        "### Stock Info\n"
      ]
    },
    {
      "cell_type": "markdown",
      "metadata": {
        "id": "dc719337-e939-488f-8cd0-15c3fbe0b7cb"
      },
      "source": [
        "Using the attribute  <code>info</code> we can extract information about the stock as a Python dictionary.\n"
      ]
    },
    {
      "cell_type": "code",
      "metadata": {
        "colab": {
          "base_uri": "https://localhost:8080/"
        },
        "id": "80bbe13f-1cc8-4ead-94be-8b2fccf5b915",
        "outputId": "c4e3d315-321e-4e98-d2e7-8d23291fa3b5"
      },
      "outputs": [
        {
          "output_type": "execute_result",
          "data": {
            "text/plain": [
              "{'zip': '95014',\n",
              " 'sector': 'Technology',\n",
              " 'fullTimeEmployees': 100000,\n",
              " 'longBusinessSummary': 'Apple Inc. designs, manufactures, and markets smartphones, personal computers, tablets, wearables, and accessories worldwide. It also sells various related services. In addition, the company offers iPhone, a line of smartphones; Mac, a line of personal computers; iPad, a line of multi-purpose tablets; AirPods Max, an over-ear wireless headphone; and wearables, home, and accessories comprising AirPods, Apple TV, Apple Watch, Beats products, HomePod, and iPod touch. Further, it provides AppleCare support services; cloud services store services; and operates various platforms, including the App Store that allow customers to discover and download applications and digital content, such as books, music, video, games, and podcasts. Additionally, the company offers various services, such as Apple Arcade, a game subscription service; Apple Music, which offers users a curated listening experience with on-demand radio stations; Apple News+, a subscription news and magazine service; Apple TV+, which offers exclusive original content; Apple Card, a co-branded credit card; and Apple Pay, a cashless payment service, as well as licenses its intellectual property. The company serves consumers, and small and mid-sized businesses; and the education, enterprise, and government markets. It distributes third-party applications for its products through the App Store. The company also sells its products through its retail and online stores, and direct sales force; and third-party cellular network carriers, wholesalers, retailers, and resellers. Apple Inc. was incorporated in 1977 and is headquartered in Cupertino, California.',\n",
              " 'city': 'Cupertino',\n",
              " 'phone': '408 996 1010',\n",
              " 'state': 'CA',\n",
              " 'country': 'United States',\n",
              " 'companyOfficers': [],\n",
              " 'website': 'https://www.apple.com',\n",
              " 'maxAge': 1,\n",
              " 'address1': 'One Apple Park Way',\n",
              " 'industry': 'Consumer Electronics',\n",
              " 'ebitdaMargins': 0.33890998,\n",
              " 'profitMargins': 0.26579002,\n",
              " 'grossMargins': 0.43019,\n",
              " 'operatingCashflow': 112241000448,\n",
              " 'revenueGrowth': 0.112,\n",
              " 'operatingMargins': 0.309,\n",
              " 'ebitda': 128217997312,\n",
              " 'targetLowPrice': 160,\n",
              " 'recommendationKey': 'buy',\n",
              " 'grossProfits': 152836000000,\n",
              " 'freeCashflow': 80153247744,\n",
              " 'targetMedianPrice': 199.5,\n",
              " 'currentPrice': 177.77,\n",
              " 'earningsGrowth': 0.25,\n",
              " 'currentRatio': 1.038,\n",
              " 'returnOnAssets': 0.19875,\n",
              " 'numberOfAnalystOpinions': 44,\n",
              " 'targetMeanPrice': 193.53,\n",
              " 'debtToEquity': 170.714,\n",
              " 'returnOnEquity': 1.45567,\n",
              " 'targetHighPrice': 215,\n",
              " 'totalCash': 63913000960,\n",
              " 'totalDebt': 122797998080,\n",
              " 'totalRevenue': 378323009536,\n",
              " 'totalCashPerShare': 3.916,\n",
              " 'financialCurrency': 'USD',\n",
              " 'revenuePerShare': 22.838,\n",
              " 'quickRatio': 0.875,\n",
              " 'recommendationMean': 1.8,\n",
              " 'exchange': 'NMS',\n",
              " 'shortName': 'Apple Inc.',\n",
              " 'longName': 'Apple Inc.',\n",
              " 'exchangeTimezoneName': 'America/New_York',\n",
              " 'exchangeTimezoneShortName': 'EDT',\n",
              " 'isEsgPopulated': False,\n",
              " 'gmtOffSetMilliseconds': '-14400000',\n",
              " 'quoteType': 'EQUITY',\n",
              " 'symbol': 'AAPL',\n",
              " 'messageBoardId': 'finmb_24937',\n",
              " 'market': 'us_market',\n",
              " 'annualHoldingsTurnover': None,\n",
              " 'enterpriseToRevenue': 7.824,\n",
              " 'beta3Year': None,\n",
              " 'enterpriseToEbitda': 23.086,\n",
              " '52WeekChange': 0.4549594,\n",
              " 'morningStarRiskRating': None,\n",
              " 'forwardEps': 6.56,\n",
              " 'revenueQuarterlyGrowth': None,\n",
              " 'sharesOutstanding': 16319399936,\n",
              " 'fundInceptionDate': None,\n",
              " 'annualReportExpenseRatio': None,\n",
              " 'totalAssets': None,\n",
              " 'bookValue': 4.402,\n",
              " 'sharesShort': 111286790,\n",
              " 'sharesPercentSharesOut': 0.0068,\n",
              " 'fundFamily': None,\n",
              " 'lastFiscalYearEnd': 1632528000,\n",
              " 'heldPercentInstitutions': 0.59397,\n",
              " 'netIncomeToCommon': 100554997760,\n",
              " 'trailingEps': 6.015,\n",
              " 'lastDividendValue': 0.22,\n",
              " 'SandP52WeekChange': 0.15217662,\n",
              " 'priceToBook': 40.38392,\n",
              " 'heldPercentInsiders': 0.0007,\n",
              " 'nextFiscalYearEnd': 1695600000,\n",
              " 'yield': None,\n",
              " 'mostRecentQuarter': 1640390400,\n",
              " 'shortRatio': 1.21,\n",
              " 'sharesShortPreviousMonthDate': 1644883200,\n",
              " 'floatShares': 16302795170,\n",
              " 'beta': 1.185531,\n",
              " 'enterpriseValue': 2959991898112,\n",
              " 'priceHint': 2,\n",
              " 'threeYearAverageReturn': None,\n",
              " 'lastSplitDate': 1598832000,\n",
              " 'lastSplitFactor': '4:1',\n",
              " 'legalType': None,\n",
              " 'lastDividendDate': 1643932800,\n",
              " 'morningStarOverallRating': None,\n",
              " 'earningsQuarterlyGrowth': 0.204,\n",
              " 'priceToSalesTrailing12Months': 7.668314,\n",
              " 'dateShortInterest': 1647302400,\n",
              " 'pegRatio': 1.94,\n",
              " 'ytdReturn': None,\n",
              " 'forwardPE': 27.099087,\n",
              " 'lastCapGain': None,\n",
              " 'shortPercentOfFloat': 0.0068,\n",
              " 'sharesShortPriorMonth': 108944701,\n",
              " 'impliedSharesOutstanding': 0,\n",
              " 'category': None,\n",
              " 'fiveYearAverageReturn': None,\n",
              " 'previousClose': 178.96,\n",
              " 'regularMarketOpen': 178.55,\n",
              " 'twoHundredDayAverage': 156.03505,\n",
              " 'trailingAnnualDividendYield': 0.004833482,\n",
              " 'payoutRatio': 0.1434,\n",
              " 'volume24Hr': None,\n",
              " 'regularMarketDayHigh': 179.61,\n",
              " 'navPrice': None,\n",
              " 'averageDailyVolume10Day': 93823630,\n",
              " 'regularMarketPreviousClose': 178.96,\n",
              " 'fiftyDayAverage': 166.498,\n",
              " 'trailingAnnualDividendRate': 0.865,\n",
              " 'open': 178.55,\n",
              " 'toCurrency': None,\n",
              " 'averageVolume10days': 93823630,\n",
              " 'expireDate': None,\n",
              " 'algorithm': None,\n",
              " 'dividendRate': 0.88,\n",
              " 'exDividendDate': 1643932800,\n",
              " 'circulatingSupply': None,\n",
              " 'startDate': None,\n",
              " 'regularMarketDayLow': 176.7,\n",
              " 'currency': 'USD',\n",
              " 'trailingPE': 29.55445,\n",
              " 'regularMarketVolume': 92633154,\n",
              " 'lastMarket': None,\n",
              " 'maxSupply': None,\n",
              " 'openInterest': None,\n",
              " 'marketCap': 2901099675648,\n",
              " 'volumeAllCurrencies': None,\n",
              " 'strikePrice': None,\n",
              " 'averageVolume': 95342043,\n",
              " 'dayLow': 176.7,\n",
              " 'ask': 178.53,\n",
              " 'askSize': 800,\n",
              " 'volume': 92633154,\n",
              " 'fiftyTwoWeekHigh': 182.94,\n",
              " 'fromCurrency': None,\n",
              " 'fiveYearAvgDividendYield': 1.13,\n",
              " 'fiftyTwoWeekLow': 122.25,\n",
              " 'bid': 178.4,\n",
              " 'tradeable': False,\n",
              " 'dividendYield': 0.005,\n",
              " 'bidSize': 3200,\n",
              " 'dayHigh': 179.61,\n",
              " 'regularMarketPrice': 177.77,\n",
              " 'preMarketPrice': 178.38,\n",
              " 'logo_url': 'https://logo.clearbit.com/apple.com'}"
            ]
          },
          "metadata": {},
          "execution_count": 5
        }
      ],
      "source": [
        "import json\n",
        "with open('apple.json') as json_file:\n",
        "    apple_info = json.load(json_file)\n",
        "    # Print the type of data variable    \n",
        "    #print(\"Type:\", type(apple_info))\n",
        "apple_info"
      ],
      "execution_count": 5
    },
    {
      "cell_type": "markdown",
      "metadata": {
        "id": "7d836659-0daf-4359-94fb-a6fd22ed6904"
      },
      "source": [
        "We can get the <code>'country'</code> using the key country\n"
      ]
    },
    {
      "cell_type": "code",
      "metadata": {
        "colab": {
          "base_uri": "https://localhost:8080/",
          "height": 35
        },
        "id": "81d30a1a-2242-4272-b7a5-079086a22013",
        "outputId": "d0d2aedd-e009-4208-9a27-36839bfd23eb"
      },
      "outputs": [
        {
          "output_type": "execute_result",
          "data": {
            "text/plain": [
              "'United States'"
            ],
            "application/vnd.google.colaboratory.intrinsic+json": {
              "type": "string"
            }
          },
          "metadata": {},
          "execution_count": 6
        }
      ],
      "source": [
        "apple_info['country']"
      ],
      "execution_count": 6
    },
    {
      "cell_type": "markdown",
      "metadata": {
        "id": "b33a5f59-4224-4231-b652-8823beb2082e"
      },
      "source": [
        "### Extracting Share Price\n"
      ]
    },
    {
      "cell_type": "markdown",
      "metadata": {
        "id": "90ba7336-34aa-4b2b-b56f-9ea2e1a3180e"
      },
      "source": [
        "A share is the single smallest part of a company's stock  that you can buy, the prices of these shares fluctuate over time. Using the <code>history()</code> method we can get the share price of the stock over a certain period of time. Using the `period` parameter we can set how far back from the present to get data. The options for `period` are 1 day (1d), 5d, 1 month (1mo) , 3mo, 6mo, 1 year (1y), 2y, 5y, 10y, ytd, and max.\n"
      ]
    },
    {
      "cell_type": "code",
      "metadata": {
        "id": "64244f61-fc8c-4855-a020-95d3170ad90b"
      },
      "outputs": [],
      "source": [
        "apple_share_price_data = apple.history(period=\"max\")"
      ],
      "execution_count": 7
    },
    {
      "cell_type": "markdown",
      "metadata": {
        "id": "d0ffe66f-f904-4c6b-a81d-a47c79f9f568"
      },
      "source": [
        "The format that the data is returned in is a Pandas DataFrame. With the `Date` as the index the share `Open`, `High`, `Low`, `Close`, `Volume`, and `Stock Splits` are given for each day.\n"
      ]
    },
    {
      "cell_type": "code",
      "metadata": {
        "colab": {
          "base_uri": "https://localhost:8080/",
          "height": 237
        },
        "id": "5a792975-23f4-45c8-af9c-74154e251874",
        "outputId": "acd73ca2-19c2-413d-f32a-a125a5688bdb"
      },
      "outputs": [
        {
          "output_type": "execute_result",
          "data": {
            "text/plain": [
              "                               Open      High       Low     Close     Volume  \\\n",
              "Date                                                                           \n",
              "1980-12-12 00:00:00-05:00  0.099722  0.100155  0.099722  0.099722  469033600   \n",
              "1980-12-15 00:00:00-05:00  0.094953  0.094953  0.094519  0.094519  175884800   \n",
              "1980-12-16 00:00:00-05:00  0.088015  0.088015  0.087582  0.087582  105728000   \n",
              "1980-12-17 00:00:00-05:00  0.089749  0.090183  0.089749  0.089749   86441600   \n",
              "1980-12-18 00:00:00-05:00  0.092351  0.092785  0.092351  0.092351   73449600   \n",
              "\n",
              "                           Dividends  Stock Splits  \n",
              "Date                                                \n",
              "1980-12-12 00:00:00-05:00        0.0           0.0  \n",
              "1980-12-15 00:00:00-05:00        0.0           0.0  \n",
              "1980-12-16 00:00:00-05:00        0.0           0.0  \n",
              "1980-12-17 00:00:00-05:00        0.0           0.0  \n",
              "1980-12-18 00:00:00-05:00        0.0           0.0  "
            ],
            "text/html": [
              "\n",
              "  <div id=\"df-aa0aa303-1bbb-4e3c-86e8-dbbdeea14ea3\">\n",
              "    <div class=\"colab-df-container\">\n",
              "      <div>\n",
              "<style scoped>\n",
              "    .dataframe tbody tr th:only-of-type {\n",
              "        vertical-align: middle;\n",
              "    }\n",
              "\n",
              "    .dataframe tbody tr th {\n",
              "        vertical-align: top;\n",
              "    }\n",
              "\n",
              "    .dataframe thead th {\n",
              "        text-align: right;\n",
              "    }\n",
              "</style>\n",
              "<table border=\"1\" class=\"dataframe\">\n",
              "  <thead>\n",
              "    <tr style=\"text-align: right;\">\n",
              "      <th></th>\n",
              "      <th>Open</th>\n",
              "      <th>High</th>\n",
              "      <th>Low</th>\n",
              "      <th>Close</th>\n",
              "      <th>Volume</th>\n",
              "      <th>Dividends</th>\n",
              "      <th>Stock Splits</th>\n",
              "    </tr>\n",
              "    <tr>\n",
              "      <th>Date</th>\n",
              "      <th></th>\n",
              "      <th></th>\n",
              "      <th></th>\n",
              "      <th></th>\n",
              "      <th></th>\n",
              "      <th></th>\n",
              "      <th></th>\n",
              "    </tr>\n",
              "  </thead>\n",
              "  <tbody>\n",
              "    <tr>\n",
              "      <th>1980-12-12 00:00:00-05:00</th>\n",
              "      <td>0.099722</td>\n",
              "      <td>0.100155</td>\n",
              "      <td>0.099722</td>\n",
              "      <td>0.099722</td>\n",
              "      <td>469033600</td>\n",
              "      <td>0.0</td>\n",
              "      <td>0.0</td>\n",
              "    </tr>\n",
              "    <tr>\n",
              "      <th>1980-12-15 00:00:00-05:00</th>\n",
              "      <td>0.094953</td>\n",
              "      <td>0.094953</td>\n",
              "      <td>0.094519</td>\n",
              "      <td>0.094519</td>\n",
              "      <td>175884800</td>\n",
              "      <td>0.0</td>\n",
              "      <td>0.0</td>\n",
              "    </tr>\n",
              "    <tr>\n",
              "      <th>1980-12-16 00:00:00-05:00</th>\n",
              "      <td>0.088015</td>\n",
              "      <td>0.088015</td>\n",
              "      <td>0.087582</td>\n",
              "      <td>0.087582</td>\n",
              "      <td>105728000</td>\n",
              "      <td>0.0</td>\n",
              "      <td>0.0</td>\n",
              "    </tr>\n",
              "    <tr>\n",
              "      <th>1980-12-17 00:00:00-05:00</th>\n",
              "      <td>0.089749</td>\n",
              "      <td>0.090183</td>\n",
              "      <td>0.089749</td>\n",
              "      <td>0.089749</td>\n",
              "      <td>86441600</td>\n",
              "      <td>0.0</td>\n",
              "      <td>0.0</td>\n",
              "    </tr>\n",
              "    <tr>\n",
              "      <th>1980-12-18 00:00:00-05:00</th>\n",
              "      <td>0.092351</td>\n",
              "      <td>0.092785</td>\n",
              "      <td>0.092351</td>\n",
              "      <td>0.092351</td>\n",
              "      <td>73449600</td>\n",
              "      <td>0.0</td>\n",
              "      <td>0.0</td>\n",
              "    </tr>\n",
              "  </tbody>\n",
              "</table>\n",
              "</div>\n",
              "      <button class=\"colab-df-convert\" onclick=\"convertToInteractive('df-aa0aa303-1bbb-4e3c-86e8-dbbdeea14ea3')\"\n",
              "              title=\"Convert this dataframe to an interactive table.\"\n",
              "              style=\"display:none;\">\n",
              "        \n",
              "  <svg xmlns=\"http://www.w3.org/2000/svg\" height=\"24px\"viewBox=\"0 0 24 24\"\n",
              "       width=\"24px\">\n",
              "    <path d=\"M0 0h24v24H0V0z\" fill=\"none\"/>\n",
              "    <path d=\"M18.56 5.44l.94 2.06.94-2.06 2.06-.94-2.06-.94-.94-2.06-.94 2.06-2.06.94zm-11 1L8.5 8.5l.94-2.06 2.06-.94-2.06-.94L8.5 2.5l-.94 2.06-2.06.94zm10 10l.94 2.06.94-2.06 2.06-.94-2.06-.94-.94-2.06-.94 2.06-2.06.94z\"/><path d=\"M17.41 7.96l-1.37-1.37c-.4-.4-.92-.59-1.43-.59-.52 0-1.04.2-1.43.59L10.3 9.45l-7.72 7.72c-.78.78-.78 2.05 0 2.83L4 21.41c.39.39.9.59 1.41.59.51 0 1.02-.2 1.41-.59l7.78-7.78 2.81-2.81c.8-.78.8-2.07 0-2.86zM5.41 20L4 18.59l7.72-7.72 1.47 1.35L5.41 20z\"/>\n",
              "  </svg>\n",
              "      </button>\n",
              "      \n",
              "  <style>\n",
              "    .colab-df-container {\n",
              "      display:flex;\n",
              "      flex-wrap:wrap;\n",
              "      gap: 12px;\n",
              "    }\n",
              "\n",
              "    .colab-df-convert {\n",
              "      background-color: #E8F0FE;\n",
              "      border: none;\n",
              "      border-radius: 50%;\n",
              "      cursor: pointer;\n",
              "      display: none;\n",
              "      fill: #1967D2;\n",
              "      height: 32px;\n",
              "      padding: 0 0 0 0;\n",
              "      width: 32px;\n",
              "    }\n",
              "\n",
              "    .colab-df-convert:hover {\n",
              "      background-color: #E2EBFA;\n",
              "      box-shadow: 0px 1px 2px rgba(60, 64, 67, 0.3), 0px 1px 3px 1px rgba(60, 64, 67, 0.15);\n",
              "      fill: #174EA6;\n",
              "    }\n",
              "\n",
              "    [theme=dark] .colab-df-convert {\n",
              "      background-color: #3B4455;\n",
              "      fill: #D2E3FC;\n",
              "    }\n",
              "\n",
              "    [theme=dark] .colab-df-convert:hover {\n",
              "      background-color: #434B5C;\n",
              "      box-shadow: 0px 1px 3px 1px rgba(0, 0, 0, 0.15);\n",
              "      filter: drop-shadow(0px 1px 2px rgba(0, 0, 0, 0.3));\n",
              "      fill: #FFFFFF;\n",
              "    }\n",
              "  </style>\n",
              "\n",
              "      <script>\n",
              "        const buttonEl =\n",
              "          document.querySelector('#df-aa0aa303-1bbb-4e3c-86e8-dbbdeea14ea3 button.colab-df-convert');\n",
              "        buttonEl.style.display =\n",
              "          google.colab.kernel.accessAllowed ? 'block' : 'none';\n",
              "\n",
              "        async function convertToInteractive(key) {\n",
              "          const element = document.querySelector('#df-aa0aa303-1bbb-4e3c-86e8-dbbdeea14ea3');\n",
              "          const dataTable =\n",
              "            await google.colab.kernel.invokeFunction('convertToInteractive',\n",
              "                                                     [key], {});\n",
              "          if (!dataTable) return;\n",
              "\n",
              "          const docLinkHtml = 'Like what you see? Visit the ' +\n",
              "            '<a target=\"_blank\" href=https://colab.research.google.com/notebooks/data_table.ipynb>data table notebook</a>'\n",
              "            + ' to learn more about interactive tables.';\n",
              "          element.innerHTML = '';\n",
              "          dataTable['output_type'] = 'display_data';\n",
              "          await google.colab.output.renderOutput(dataTable, element);\n",
              "          const docLink = document.createElement('div');\n",
              "          docLink.innerHTML = docLinkHtml;\n",
              "          element.appendChild(docLink);\n",
              "        }\n",
              "      </script>\n",
              "    </div>\n",
              "  </div>\n",
              "  "
            ]
          },
          "metadata": {},
          "execution_count": 8
        }
      ],
      "source": [
        "apple_share_price_data.head()"
      ],
      "execution_count": 8
    },
    {
      "cell_type": "markdown",
      "metadata": {
        "id": "36ed02c0-2c6c-4738-8b28-8f8416f5f369"
      },
      "source": [
        "We can reset the index of the DataFrame with the `reset_index` function. We also set the `inplace` paramter to `True` so the change takes place to the DataFrame itself.\n"
      ]
    },
    {
      "cell_type": "code",
      "metadata": {
        "id": "d36f89c2-2789-4926-ad6b-87f3bf9b97ff"
      },
      "outputs": [],
      "source": [
        "apple_share_price_data.reset_index(inplace=True)"
      ],
      "execution_count": 9
    },
    {
      "cell_type": "markdown",
      "metadata": {
        "id": "ae6a97a5-1275-4a8f-8ce2-6f5eb81e2ca1"
      },
      "source": [
        "We can plot the `Open` price against the `Date`:\n"
      ]
    },
    {
      "cell_type": "code",
      "metadata": {
        "colab": {
          "base_uri": "https://localhost:8080/",
          "height": 286
        },
        "id": "a4c538e7-4b42-4888-9427-f8f56900b1f1",
        "outputId": "70d9c294-a3a7-4dbc-d79c-d1ffcab19072"
      },
      "outputs": [
        {
          "output_type": "execute_result",
          "data": {
            "text/plain": [
              "<AxesSubplot:xlabel='Date'>"
            ]
          },
          "metadata": {},
          "execution_count": 10
        },
        {
          "output_type": "display_data",
          "data": {
            "text/plain": [
              "<Figure size 432x288 with 1 Axes>"
            ],
            "image/png": "[encoded data removed]"
          },
          "metadata": {
            "needs_background": "light"
          }
        }
      ],
      "source": [
        "apple_share_price_data.plot(x=\"Date\", y=\"Open\")"
      ],
      "execution_count": 10
    },
    {
      "cell_type": "markdown",
      "metadata": {
        "id": "a20b4115-7db5-4082-93fe-3f4107d0911b"
      },
      "source": [
        "### Extracting Dividends\n"
      ]
    },
    {
      "cell_type": "markdown",
      "metadata": {
        "id": "be691c90-391c-41bc-8ec2-b83279daeae6"
      },
      "source": [
        "Dividends are the distribution of a companys profits to shareholders. In this case they are defined as an amount of money returned per share an investor owns. Using the variable `dividends` we can get a dataframe of the data. The period of the data is given by the period defined in the 'history` function.\n"
      ]
    },
    {
      "cell_type": "code",
      "metadata": {
        "colab": {
          "base_uri": "https://localhost:8080/"
        },
        "id": "18e04a8f-fe43-4e67-9101-b83f7308276d",
        "outputId": "68fa03a5-bd2d-4f30-8e6a-772e54e83210"
      },
      "outputs": [
        {
          "output_type": "execute_result",
          "data": {
            "text/plain": [
              "Date\n",
              "1987-05-11 00:00:00-04:00    0.000536\n",
              "1987-08-10 00:00:00-04:00    0.000536\n",
              "1987-11-17 00:00:00-05:00    0.000714\n",
              "1988-02-12 00:00:00-05:00    0.000714\n",
              "1988-05-16 00:00:00-04:00    0.000714\n",
              "                               ...   \n",
              "2022-02-04 00:00:00-05:00    0.220000\n",
              "2022-05-06 00:00:00-04:00    0.230000\n",
              "2022-08-05 00:00:00-04:00    0.230000\n",
              "2022-11-04 00:00:00-04:00    0.230000\n",
              "2023-02-10 00:00:00-05:00    0.230000\n",
              "Name: Dividends, Length: 78, dtype: float64"
            ]
          },
          "metadata": {},
          "execution_count": 11
        }
      ],
      "source": [
        "apple.dividends"
      ],
      "execution_count": 11
    },
    {
      "cell_type": "markdown",
      "metadata": {
        "id": "325517c6-6f40-46ff-b98d-2edd1b67e447"
      },
      "source": [
        "We can plot the dividends overtime:\n"
      ]
    },
    {
      "cell_type": "code",
      "metadata": {
        "colab": {
          "base_uri": "https://localhost:8080/",
          "height": 286
        },
        "id": "3afb3307-7315-4629-93bd-1a5a1970de49",
        "outputId": "ecbd1964-3905-401d-bd7b-69b850f1b220"
      },
      "outputs": [
        {
          "output_type": "execute_result",
          "data": {
            "text/plain": [
              "<AxesSubplot:xlabel='Date'>"
            ]
          },
          "metadata": {},
          "execution_count": 12
        },
        {
          "output_type": "display_data",
          "data": {
            "text/plain": [
              "<Figure size 432x288 with 1 Axes>"
            ],
            "image/png": "[encoded data removed]"
          },
          "metadata": {
            "needs_background": "light"
          }
        }
      ],
      "source": [
        "apple.dividends.plot()"
      ],
      "execution_count": 12
    },
    {
      "cell_type": "markdown",
      "metadata": {
        "id": "711578a9-562f-4c11-add9-d67bc9c091cd"
      },
      "source": [
        "## Exercise \n"
      ]
    },
    {
      "cell_type": "markdown",
      "metadata": {
        "id": "0471c3c3-18d4-4af1-a22e-b638c268c406"
      },
      "source": [
        "Now using the `Ticker` module create an object for AMD (Advanced Micro Devices) with the ticker symbol is `AMD` called; name the object <code>amd</code>.\n"
      ]
    },
    {
      "cell_type": "code",
      "metadata": {
        "id": "53cf0419-3b84-4e51-8bd5-44646e142998"
      },
      "outputs": [],
      "source": [
        "amd = yf.Ticker(\"AMD\")"
      ],
      "execution_count": 13
    },
    {
      "cell_type": "code",
      "metadata": {
        "colab": {
          "base_uri": "https://localhost:8080/"
        },
        "id": "b0d43b40-1f75-42a6-ad18-82ab3950e1be",
        "outputId": "4c8e1584-ddcc-4068-8a63-eb29373ca99d"
      },
      "outputs": [
        {
          "output_type": "stream",
          "name": "stdout",
          "text": [
            "--2023-03-02 03:33:20--  https://cf-courses-data.s3.us.cloud-object-storage.appdomain.cloud/IBMDeveloperSkillsNetwork-PY0220EN-SkillsNetwork/data/amd.json\n",
            "Resolving cf-courses-data.s3.us.cloud-object-storage.appdomain.cloud (cf-courses-data.s3.us.cloud-object-storage.appdomain.cloud)... 169.45.118.108\n",
            "Connecting to cf-courses-data.s3.us.cloud-object-storage.appdomain.cloud (cf-courses-data.s3.us.cloud-object-storage.appdomain.cloud)|169.45.118.108|:443... connected.\n",
            "HTTP request sent, awaiting response... 200 OK\n",
            "Length: 5838 (5.7K) [application/json]\n",
            "Saving to: ‘amd.json’\n",
            "\n",
            "amd.json            100%[===================>]   5.70K  --.-KB/s    in 0s      \n",
            "\n",
            "2023-03-02 03:33:20 (825 MB/s) - ‘amd.json’ saved [5838/5838]\n",
            "\n"
          ]
        }
      ],
      "source": [
        "!wget https://cf-courses-data.s3.us.cloud-object-storage.appdomain.cloud/IBMDeveloperSkillsNetwork-PY0220EN-SkillsNetwork/data/amd.json"
      ],
      "execution_count": 14
    },
    {
      "cell_type": "code",
      "metadata": {
        "colab": {
          "base_uri": "https://localhost:8080/"
        },
        "id": "a45c89db-ed3e-432b-b606-134030adf060",
        "outputId": "9b3a4c0f-8691-4156-8d1b-626120ee491c"
      },
      "outputs": [
        {
          "output_type": "execute_result",
          "data": {
            "text/plain": [
              "{'zip': '95054',\n",
              " 'sector': 'Technology',\n",
              " 'fullTimeEmployees': 15500,\n",
              " 'longBusinessSummary': 'Advanced Micro Devices, Inc. operates as a semiconductor company worldwide. The company operates in two segments, Computing and Graphics; and Enterprise, Embedded and Semi-Custom. Its products include x86 microprocessors as an accelerated processing unit, chipsets, discrete and integrated graphics processing units (GPUs), data center and professional GPUs, and development services; and server and embedded processors, and semi-custom System-on-Chip (SoC) products, development services, and technology for game consoles. The company provides processors for desktop and notebook personal computers under the AMD Ryzen, AMD Ryzen PRO, Ryzen Threadripper, Ryzen Threadripper PRO, AMD Athlon, AMD Athlon PRO, AMD FX, AMD A-Series, and AMD PRO A-Series processors brands; discrete GPUs for desktop and notebook PCs under the AMD Radeon graphics, AMD Embedded Radeon graphics brands; and professional graphics products under the AMD Radeon Pro and AMD FirePro graphics brands. It also offers Radeon Instinct, Radeon PRO V-series, and AMD Instinct accelerators for servers; chipsets under the AMD trademark; microprocessors for servers under the AMD EPYC; embedded processor solutions under the AMD Athlon, AMD Geode, AMD Ryzen, AMD EPYC, AMD R-Series, and G-Series processors brands; and customer-specific solutions based on AMD CPU, GPU, and multi-media technologies, as well as semi-custom SoC products. It serves original equipment manufacturers, public cloud service providers, original design manufacturers, system integrators, independent distributors, online retailers, and add-in-board manufacturers through its direct sales force, independent distributors, and sales representatives. The company was incorporated in 1969 and is headquartered in Santa Clara, California.',\n",
              " 'city': 'Santa Clara',\n",
              " 'phone': '408 749 4000',\n",
              " 'state': 'CA',\n",
              " 'country': 'United States',\n",
              " 'companyOfficers': [],\n",
              " 'website': 'https://www.amd.com',\n",
              " 'maxAge': 1,\n",
              " 'address1': '2485 Augustine Drive',\n",
              " 'industry': 'Semiconductors',\n",
              " 'ebitdaMargins': 0.24674,\n",
              " 'profitMargins': 0.19240999,\n",
              " 'grossMargins': 0.48248002,\n",
              " 'operatingCashflow': 3520999936,\n",
              " 'revenueGrowth': 0.488,\n",
              " 'operatingMargins': 0.22198,\n",
              " 'ebitda': 4055000064,\n",
              " 'targetLowPrice': 107,\n",
              " 'recommendationKey': 'buy',\n",
              " 'grossProfits': 7929000000,\n",
              " 'freeCashflow': 3122749952,\n",
              " 'targetMedianPrice': 150,\n",
              " 'currentPrice': 119.22,\n",
              " 'earningsGrowth': -0.454,\n",
              " 'currentRatio': 2.024,\n",
              " 'returnOnAssets': 0.21327,\n",
              " 'numberOfAnalystOpinions': 38,\n",
              " 'targetMeanPrice': 152.02,\n",
              " 'debtToEquity': 9.764,\n",
              " 'returnOnEquity': 0.47428,\n",
              " 'targetHighPrice': 200,\n",
              " 'totalCash': 3608000000,\n",
              " 'totalDebt': 732000000,\n",
              " 'totalRevenue': 16433999872,\n",
              " 'totalCashPerShare': 3.008,\n",
              " 'financialCurrency': 'USD',\n",
              " 'revenuePerShare': 13.548,\n",
              " 'quickRatio': 1.49,\n",
              " 'recommendationMean': 2.2,\n",
              " 'exchange': 'NMS',\n",
              " 'shortName': 'Advanced Micro Devices, Inc.',\n",
              " 'longName': 'Advanced Micro Devices, Inc.',\n",
              " 'exchangeTimezoneName': 'America/New_York',\n",
              " 'exchangeTimezoneShortName': 'EDT',\n",
              " 'isEsgPopulated': False,\n",
              " 'gmtOffSetMilliseconds': '-14400000',\n",
              " 'quoteType': 'EQUITY',\n",
              " 'symbol': 'AMD',\n",
              " 'messageBoardId': 'finmb_168864',\n",
              " 'market': 'us_market',\n",
              " 'annualHoldingsTurnover': None,\n",
              " 'enterpriseToRevenue': 8.525,\n",
              " 'beta3Year': None,\n",
              " 'enterpriseToEbitda': 34.551,\n",
              " '52WeekChange': 0.51966953,\n",
              " 'morningStarRiskRating': None,\n",
              " 'forwardEps': 4.72,\n",
              " 'revenueQuarterlyGrowth': None,\n",
              " 'sharesOutstanding': 1627360000,\n",
              " 'fundInceptionDate': None,\n",
              " 'annualReportExpenseRatio': None,\n",
              " 'totalAssets': None,\n",
              " 'bookValue': 6.211,\n",
              " 'sharesShort': 27776129,\n",
              " 'sharesPercentSharesOut': 0.0171,\n",
              " 'fundFamily': None,\n",
              " 'lastFiscalYearEnd': 1640390400,\n",
              " 'heldPercentInstitutions': 0.52896,\n",
              " 'netIncomeToCommon': 3161999872,\n",
              " 'trailingEps': 2.57,\n",
              " 'lastDividendValue': 0.005,\n",
              " 'SandP52WeekChange': 0.15217662,\n",
              " 'priceToBook': 19.194977,\n",
              " 'heldPercentInsiders': 0.00328,\n",
              " 'nextFiscalYearEnd': 1703462400,\n",
              " 'yield': None,\n",
              " 'mostRecentQuarter': 1640390400,\n",
              " 'shortRatio': 0.24,\n",
              " 'sharesShortPreviousMonthDate': 1644883200,\n",
              " 'floatShares': 1193798619,\n",
              " 'beta': 1.848425,\n",
              " 'enterpriseValue': 140104957952,\n",
              " 'priceHint': 2,\n",
              " 'threeYearAverageReturn': None,\n",
              " 'lastSplitDate': 966902400,\n",
              " 'lastSplitFactor': '2:1',\n",
              " 'legalType': None,\n",
              " 'lastDividendDate': 798940800,\n",
              " 'morningStarOverallRating': None,\n",
              " 'earningsQuarterlyGrowth': -0.453,\n",
              " 'priceToSalesTrailing12Months': 11.805638,\n",
              " 'dateShortInterest': 1647302400,\n",
              " 'pegRatio': 0.99,\n",
              " 'ytdReturn': None,\n",
              " 'forwardPE': 25.258476,\n",
              " 'lastCapGain': None,\n",
              " 'shortPercentOfFloat': 0.0171,\n",
              " 'sharesShortPriorMonth': 88709340,\n",
              " 'impliedSharesOutstanding': 0,\n",
              " 'category': None,\n",
              " 'fiveYearAverageReturn': None,\n",
              " 'previousClose': 123.23,\n",
              " 'regularMarketOpen': 123.04,\n",
              " 'twoHundredDayAverage': 116.6998,\n",
              " 'trailingAnnualDividendYield': 0,\n",
              " 'payoutRatio': 0,\n",
              " 'volume24Hr': None,\n",
              " 'regularMarketDayHigh': 125.66,\n",
              " 'navPrice': None,\n",
              " 'averageDailyVolume10Day': 102167370,\n",
              " 'regularMarketPreviousClose': 123.23,\n",
              " 'fiftyDayAverage': 115.95,\n",
              " 'trailingAnnualDividendRate': 0,\n",
              " 'open': 123.04,\n",
              " 'toCurrency': None,\n",
              " 'averageVolume10days': 102167370,\n",
              " 'expireDate': None,\n",
              " 'algorithm': None,\n",
              " 'dividendRate': None,\n",
              " 'exDividendDate': 798940800,\n",
              " 'circulatingSupply': None,\n",
              " 'startDate': None,\n",
              " 'regularMarketDayLow': 118.59,\n",
              " 'currency': 'USD',\n",
              " 'trailingPE': 46.389107,\n",
              " 'regularMarketVolume': 99476946,\n",
              " 'lastMarket': None,\n",
              " 'maxSupply': None,\n",
              " 'openInterest': None,\n",
              " 'marketCap': 194013855744,\n",
              " 'volumeAllCurrencies': None,\n",
              " 'strikePrice': None,\n",
              " 'averageVolume': 102428813,\n",
              " 'dayLow': 118.59,\n",
              " 'ask': 117.24,\n",
              " 'askSize': 1100,\n",
              " 'volume': 99476946,\n",
              " 'fiftyTwoWeekHigh': 164.46,\n",
              " 'fromCurrency': None,\n",
              " 'fiveYearAvgDividendYield': None,\n",
              " 'fiftyTwoWeekLow': 72.5,\n",
              " 'bid': 117.24,\n",
              " 'tradeable': False,\n",
              " 'dividendYield': None,\n",
              " 'bidSize': 900,\n",
              " 'dayHigh': 125.66,\n",
              " 'regularMarketPrice': 119.22,\n",
              " 'preMarketPrice': 116.98,\n",
              " 'logo_url': 'https://logo.clearbit.com/amd.com'}"
            ]
          },
          "metadata": {},
          "execution_count": 15
        }
      ],
      "source": [
        "import json\n",
        "with open('amd.json') as json_file:\n",
        "    amd_info = json.load(json_file)\n",
        "    # Print the type of data variable    \n",
        "    #print(\"Type:\", type(apple_info))\n",
        "amd_info"
      ],
      "execution_count": 15
    },
    {
      "cell_type": "markdown",
      "metadata": {
        "id": "dde6bfa1-3df4-4ab7-a530-b34ebf1886c9"
      },
      "source": [
        "<b>Question 1</b> Use the key  <code>'country'</code> to find the country the stock belongs to, remember it as it will be a quiz question.\n"
      ]
    },
    {
      "cell_type": "code",
      "metadata": {
        "colab": {
          "base_uri": "https://localhost:8080/",
          "height": 35
        },
        "id": "bd0cc9e0-83b5-4f3b-86c1-439a8a945b73",
        "outputId": "d6b9787e-3f4e-49e1-b3b9-2b714610680f"
      },
      "outputs": [
        {
          "output_type": "execute_result",
          "data": {
            "text/plain": [
              "'United States'"
            ],
            "application/vnd.google.colaboratory.intrinsic+json": {
              "type": "string"
            }
          },
          "metadata": {},
          "execution_count": 17
        }
      ],
      "source": [
        "amd_info['country']"
      ],
      "execution_count": 17
    },
    {
      "cell_type": "markdown",
      "metadata": {
        "id": "ec162880-87b4-4cdf-a4aa-934258cd2c1c"
      },
      "source": [
        "<b>Question 2</b> Use the key  <code>'sector'</code> to find the sector the stock belongs to, remember it as it will be a quiz question.\n"
      ]
    },
    {
      "cell_type": "code",
      "metadata": {
        "colab": {
          "base_uri": "https://localhost:8080/",
          "height": 35
        },
        "id": "fee86d0c-7cfc-4f1d-bc9d-a45941ab2ec6",
        "outputId": "0ab812ed-d89a-4d15-b0ac-143cb348ac21"
      },
      "outputs": [
        {
          "output_type": "execute_result",
          "data": {
            "text/plain": [
              "'Technology'"
            ],
            "application/vnd.google.colaboratory.intrinsic+json": {
              "type": "string"
            }
          },
          "metadata": {},
          "execution_count": 18
        }
      ],
      "source": [
        "amd_info['sector']"
      ],
      "execution_count": 18
    },
    {
      "cell_type": "markdown",
      "metadata": {
        "id": "16123aa0-0da6-4fe2-9d15-ed2a414da6f7"
      },
      "source": [
        "<b>Question 3</b> Obtain stock data for AMD using the `history` function, set the `period` to max. Find the `Volume` traded on the first day (first row).\n"
      ]
    },
    {
      "cell_type": "code",
      "metadata": {
        "id": "680bca67-effa-4f46-8304-15cc0c4e6a56"
      },
      "outputs": [],
      "source": [
        "amd_share_price_data = amd.history(period=\"max\")"
      ],
      "execution_count": 19
    },
    {
      "cell_type": "code",
      "source": [
        "amd_share_price_data.head()"
      ],
      "metadata": {
        "colab": {
          "base_uri": "https://localhost:8080/",
          "height": 237
        },
        "id": "o61m6GJjY3JO",
        "outputId": "6c50012e-cc6f-4428-9b76-0c20ef295add"
      },
      "execution_count": 20,
      "outputs": [
        {
          "output_type": "execute_result",
          "data": {
            "text/plain": [
              "                           Open      High       Low     Close  Volume  \\\n",
              "Date                                                                    \n",
              "1980-03-17 00:00:00-05:00   0.0  3.302083  3.125000  3.145833  219600   \n",
              "1980-03-18 00:00:00-05:00   0.0  3.125000  2.937500  3.031250  727200   \n",
              "1980-03-19 00:00:00-05:00   0.0  3.083333  3.020833  3.041667  295200   \n",
              "1980-03-20 00:00:00-05:00   0.0  3.062500  3.010417  3.010417  159600   \n",
              "1980-03-21 00:00:00-05:00   0.0  3.020833  2.906250  2.916667  130800   \n",
              "\n",
              "                           Dividends  Stock Splits  \n",
              "Date                                                \n",
              "1980-03-17 00:00:00-05:00        0.0           0.0  \n",
              "1980-03-18 00:00:00-05:00        0.0           0.0  \n",
              "1980-03-19 00:00:00-05:00        0.0           0.0  \n",
              "1980-03-20 00:00:00-05:00        0.0           0.0  \n",
              "1980-03-21 00:00:00-05:00        0.0           0.0  "
            ],
            "text/html": [
              "\n",
              "  <div id=\"df-c9884508-c440-4ac6-add0-19d696a1d23d\">\n",
              "    <div class=\"colab-df-container\">\n",
              "      <div>\n",
              "<style scoped>\n",
              "    .dataframe tbody tr th:only-of-type {\n",
              "        vertical-align: middle;\n",
              "    }\n",
              "\n",
              "    .dataframe tbody tr th {\n",
              "        vertical-align: top;\n",
              "    }\n",
              "\n",
              "    .dataframe thead th {\n",
              "        text-align: right;\n",
              "    }\n",
              "</style>\n",
              "<table border=\"1\" class=\"dataframe\">\n",
              "  <thead>\n",
              "    <tr style=\"text-align: right;\">\n",
              "      <th></th>\n",
              "      <th>Open</th>\n",
              "      <th>High</th>\n",
              "      <th>Low</th>\n",
              "      <th>Close</th>\n",
              "      <th>Volume</th>\n",
              "      <th>Dividends</th>\n",
              "      <th>Stock Splits</th>\n",
              "    </tr>\n",
              "    <tr>\n",
              "      <th>Date</th>\n",
              "      <th></th>\n",
              "      <th></th>\n",
              "      <th></th>\n",
              "      <th></th>\n",
              "      <th></th>\n",
              "      <th></th>\n",
              "      <th></th>\n",
              "    </tr>\n",
              "  </thead>\n",
              "  <tbody>\n",
              "    <tr>\n",
              "      <th>1980-03-17 00:00:00-05:00</th>\n",
              "      <td>0.0</td>\n",
              "      <td>3.302083</td>\n",
              "      <td>3.125000</td>\n",
              "      <td>3.145833</td>\n",
              "      <td>219600</td>\n",
              "      <td>0.0</td>\n",
              "      <td>0.0</td>\n",
              "    </tr>\n",
              "    <tr>\n",
              "      <th>1980-03-18 00:00:00-05:00</th>\n",
              "      <td>0.0</td>\n",
              "      <td>3.125000</td>\n",
              "      <td>2.937500</td>\n",
              "      <td>3.031250</td>\n",
              "      <td>727200</td>\n",
              "      <td>0.0</td>\n",
              "      <td>0.0</td>\n",
              "    </tr>\n",
              "    <tr>\n",
              "      <th>1980-03-19 00:00:00-05:00</th>\n",
              "      <td>0.0</td>\n",
              "      <td>3.083333</td>\n",
              "      <td>3.020833</td>\n",
              "      <td>3.041667</td>\n",
              "      <td>295200</td>\n",
              "      <td>0.0</td>\n",
              "      <td>0.0</td>\n",
              "    </tr>\n",
              "    <tr>\n",
              "      <th>1980-03-20 00:00:00-05:00</th>\n",
              "      <td>0.0</td>\n",
              "      <td>3.062500</td>\n",
              "      <td>3.010417</td>\n",
              "      <td>3.010417</td>\n",
              "      <td>159600</td>\n",
              "      <td>0.0</td>\n",
              "      <td>0.0</td>\n",
              "    </tr>\n",
              "    <tr>\n",
              "      <th>1980-03-21 00:00:00-05:00</th>\n",
              "      <td>0.0</td>\n",
              "      <td>3.020833</td>\n",
              "      <td>2.906250</td>\n",
              "      <td>2.916667</td>\n",
              "      <td>130800</td>\n",
              "      <td>0.0</td>\n",
              "      <td>0.0</td>\n",
              "    </tr>\n",
              "  </tbody>\n",
              "</table>\n",
              "</div>\n",
              "      <button class=\"colab-df-convert\" onclick=\"convertToInteractive('df-c9884508-c440-4ac6-add0-19d696a1d23d')\"\n",
              "              title=\"Convert this dataframe to an interactive table.\"\n",
              "              style=\"display:none;\">\n",
              "        \n",
              "  <svg xmlns=\"http://www.w3.org/2000/svg\" height=\"24px\"viewBox=\"0 0 24 24\"\n",
              "       width=\"24px\">\n",
              "    <path d=\"M0 0h24v24H0V0z\" fill=\"none\"/>\n",
              "    <path d=\"M18.56 5.44l.94 2.06.94-2.06 2.06-.94-2.06-.94-.94-2.06-.94 2.06-2.06.94zm-11 1L8.5 8.5l.94-2.06 2.06-.94-2.06-.94L8.5 2.5l-.94 2.06-2.06.94zm10 10l.94 2.06.94-2.06 2.06-.94-2.06-.94-.94-2.06-.94 2.06-2.06.94z\"/><path d=\"M17.41 7.96l-1.37-1.37c-.4-.4-.92-.59-1.43-.59-.52 0-1.04.2-1.43.59L10.3 9.45l-7.72 7.72c-.78.78-.78 2.05 0 2.83L4 21.41c.39.39.9.59 1.41.59.51 0 1.02-.2 1.41-.59l7.78-7.78 2.81-2.81c.8-.78.8-2.07 0-2.86zM5.41 20L4 18.59l7.72-7.72 1.47 1.35L5.41 20z\"/>\n",
              "  </svg>\n",
              "      </button>\n",
              "      \n",
              "  <style>\n",
              "    .colab-df-container {\n",
              "      display:flex;\n",
              "      flex-wrap:wrap;\n",
              "      gap: 12px;\n",
              "    }\n",
              "\n",
              "    .colab-df-convert {\n",
              "      background-color: #E8F0FE;\n",
              "      border: none;\n",
              "      border-radius: 50%;\n",
              "      cursor: pointer;\n",
              "      display: none;\n",
              "      fill: #1967D2;\n",
              "      height: 32px;\n",
              "      padding: 0 0 0 0;\n",
              "      width: 32px;\n",
              "    }\n",
              "\n",
              "    .colab-df-convert:hover {\n",
              "      background-color: #E2EBFA;\n",
              "      box-shadow: 0px 1px 2px rgba(60, 64, 67, 0.3), 0px 1px 3px 1px rgba(60, 64, 67, 0.15);\n",
              "      fill: #174EA6;\n",
              "    }\n",
              "\n",
              "    [theme=dark] .colab-df-convert {\n",
              "      background-color: #3B4455;\n",
              "      fill: #D2E3FC;\n",
              "    }\n",
              "\n",
              "    [theme=dark] .colab-df-convert:hover {\n",
              "      background-color: #434B5C;\n",
              "      box-shadow: 0px 1px 3px 1px rgba(0, 0, 0, 0.15);\n",
              "      filter: drop-shadow(0px 1px 2px rgba(0, 0, 0, 0.3));\n",
              "      fill: #FFFFFF;\n",
              "    }\n",
              "  </style>\n",
              "\n",
              "      <script>\n",
              "        const buttonEl =\n",
              "          document.querySelector('#df-c9884508-c440-4ac6-add0-19d696a1d23d button.colab-df-convert');\n",
              "        buttonEl.style.display =\n",
              "          google.colab.kernel.accessAllowed ? 'block' : 'none';\n",
              "\n",
              "        async function convertToInteractive(key) {\n",
              "          const element = document.querySelector('#df-c9884508-c440-4ac6-add0-19d696a1d23d');\n",
              "          const dataTable =\n",
              "            await google.colab.kernel.invokeFunction('convertToInteractive',\n",
              "                                                     [key], {});\n",
              "          if (!dataTable) return;\n",
              "\n",
              "          const docLinkHtml = 'Like what you see? Visit the ' +\n",
              "            '<a target=\"_blank\" href=https://colab.research.google.com/notebooks/data_table.ipynb>data table notebook</a>'\n",
              "            + ' to learn more about interactive tables.';\n",
              "          element.innerHTML = '';\n",
              "          dataTable['output_type'] = 'display_data';\n",
              "          await google.colab.output.renderOutput(dataTable, element);\n",
              "          const docLink = document.createElement('div');\n",
              "          docLink.innerHTML = docLinkHtml;\n",
              "          element.appendChild(docLink);\n",
              "        }\n",
              "      </script>\n",
              "    </div>\n",
              "  </div>\n",
              "  "
            ]
          },
          "metadata": {},
          "execution_count": 20
        }
      ]
    },
    {
      "cell_type": "code",
      "source": [
        "amd_share_price_data.iloc[0,4]"
      ],
      "metadata": {
        "colab": {
          "base_uri": "https://localhost:8080/"
        },
        "id": "l90ByJshZA6W",
        "outputId": "4d4bef71-a4ab-410f-f3bb-af7bef8e69fe"
      },
      "execution_count": 30,
      "outputs": [
        {
          "output_type": "execute_result",
          "data": {
            "text/plain": [
              "219600"
            ]
          },
          "metadata": {},
          "execution_count": 30
        }
      ]
    },
    {
      "cell_type": "markdown",
      "metadata": {
        "id": "642f252c-605c-4c4e-ac0d-c64d9f3e7177"
      },
      "source": [
        "<h2>About the Authors:</h2> \n",
        "\n",
        "<a href=\"https://www.linkedin.com/in/joseph-s-50398b136/?utm_medium=Exinfluencer&utm_source=Exinfluencer&utm_content=000026UJ&utm_term=10006555&utm_id=NA-SkillsNetwork-Channel-SkillsNetworkCoursesIBMDeveloperSkillsNetworkPY0220ENSkillsNetwork900-2022-01-01\">Joseph Santarcangelo</a> has a PhD in Electrical Engineering, his research focused on using machine learning, signal processing, and computer vision to determine how videos impact human cognition. Joseph has been working for IBM since he completed his PhD.\n",
        "\n",
        "Azim Hirjani\n"
      ]
    },
    {
      "cell_type": "markdown",
      "metadata": {
        "id": "66946749-c992-41a3-9813-2f3510aa3080"
      },
      "source": [
        "## Change Log\n",
        "\n",
        "| Date (YYYY-MM-DD) | Version | Changed By    | Change Description        |\n",
        "| ----------------- | ------- | ------------- | ------------------------- |\n",
        "| 2020-11-10        | 1.1     | Malika Singla | Deleted the Optional part |\n",
        "| 2020-08-27        | 1.0     | Malika Singla | Added lab to GitLab       |\n",
        "\n",
        "<hr>\n",
        "\n",
        "## <h3 align=\"center\"> © IBM Corporation 2020. All rights reserved. <h3/>\n",
        "\n",
        "<p>\n"
      ]
    }
  ],
  "metadata": {
    "kernelspec": {
      "display_name": "Python",
      "language": "python",
      "name": "conda-env-python-py"
    },
    "language_info": {
      "name": ""
    },
    "colab": {
      "provenance": [],
      "include_colab_link": true
    }
  },
  "nbformat": 4,
  "nbformat_minor": 0
}